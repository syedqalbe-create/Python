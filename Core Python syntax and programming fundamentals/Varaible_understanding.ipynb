{
 "cells": [
  {
   "cell_type": "code",
   "execution_count": 9,
   "id": "b0577228-3043-40e5-808a-f061050bb82a",
   "metadata": {},
   "outputs": [],
   "source": [
    "def bio(age,name,height):\n",
    "    print(\"Welcome Folks! Here are my detail:\\n\")\n",
    "\n",
    "\n",
    "    return age,name,height"
   ]
  },
  {
   "cell_type": "code",
   "execution_count": 2,
   "id": "6aec6cce-938a-40fb-a4c5-33a2a99969ed",
   "metadata": {},
   "outputs": [
    {
     "name": "stdout",
     "output_type": "stream",
     "text": [
      "Welcome Folks! Here are my detail:\n",
      "\n",
      "(23, 'Syed Qalbe Hassan', 170)\n"
     ]
    }
   ],
   "source": [
    "print(bio(23,\"Syed Qalbe Hassan\",170))"
   ]
  },
  {
   "cell_type": "code",
   "execution_count": 5,
   "id": "f83357f5-2839-4d4c-b016-dfbfff648165",
   "metadata": {},
   "outputs": [
    {
     "name": "stdout",
     "output_type": "stream",
     "text": [
      "Welcome Folks! Here are my detail:\n",
      "\n"
     ]
    }
   ],
   "source": [
    "my = bio(23,\"Syed Qalbe Hassan\",170)\n"
   ]
  },
  {
   "cell_type": "code",
   "execution_count": 7,
   "id": "5a1e40e4-505c-4ceb-a0cd-530840c8d2a0",
   "metadata": {},
   "outputs": [
    {
     "name": "stdout",
     "output_type": "stream",
     "text": [
      "(23, 'Syed Qalbe Hassan', 170)\n"
     ]
    }
   ],
   "source": [
    "print(my)"
   ]
  },
  {
   "cell_type": "code",
   "execution_count": 10,
   "id": "aa992c1d-a0bf-4f50-a655-294e5ab86386",
   "metadata": {},
   "outputs": [],
   "source": [
    "def bio(age, name, height):\n",
    "    print(\"Welcome Folks! Here are my details:\\n\")\n",
    "    print(f\"Age: {age}\")\n",
    "    print(f\"Name: {name}\")\n",
    "    print(f\"Height: {height} cm\")\n"
   ]
  },
  {
   "cell_type": "code",
   "execution_count": 11,
   "id": "1987215c-cea9-4961-9b2e-1bfb0ca93fe0",
   "metadata": {},
   "outputs": [
    {
     "name": "stdout",
     "output_type": "stream",
     "text": [
      "Welcome Folks! Here are my details:\n",
      "\n",
      "Age: 23\n",
      "Name: Syed Qalbe Hassan\n",
      "Height: 170 cm\n"
     ]
    }
   ],
   "source": [
    "bio(23, \"Syed Qalbe Hassan\", 170)\n"
   ]
  },
  {
   "cell_type": "code",
   "execution_count": null,
   "id": "30f53127-0ffc-4b5b-8d73-80bdbd26b15a",
   "metadata": {},
   "outputs": [],
   "source": []
  }
 ],
 "metadata": {
  "kernelspec": {
   "display_name": "Python 3 (ipykernel)",
   "language": "python",
   "name": "python3"
  },
  "language_info": {
   "codemirror_mode": {
    "name": "ipython",
    "version": 3
   },
   "file_extension": ".py",
   "mimetype": "text/x-python",
   "name": "python",
   "nbconvert_exporter": "python",
   "pygments_lexer": "ipython3",
   "version": "3.12.3"
  }
 },
 "nbformat": 4,
 "nbformat_minor": 5
}
