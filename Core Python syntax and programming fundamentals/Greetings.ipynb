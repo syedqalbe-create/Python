{
 "cells": [
  {
   "cell_type": "code",
   "execution_count": 22,
   "id": "a5b8345d-7368-441e-9778-b202d8c77b69",
   "metadata": {},
   "outputs": [],
   "source": [
    "def greet():\n",
    "\n",
    "    names = [\"SOMI\",\"INZI\",\"UMAIR\",\"ADNAN\",\"SAAD\"]\n",
    "    for names in names:\n",
    "        print(f\"Happy to see you :{names}\")\n",
    "\n",
    "    "
   ]
  },
  {
   "cell_type": "code",
   "execution_count": 23,
   "id": "6aff0d0b-a70e-4a92-81bb-678e86b86d0b",
   "metadata": {},
   "outputs": [
    {
     "name": "stdout",
     "output_type": "stream",
     "text": [
      "Happy to see you :SOMI\n",
      "Happy to see you :INZI\n",
      "Happy to see you :UMAIR\n",
      "Happy to see you :ADNAN\n",
      "Happy to see you :SAAD\n",
      "None\n"
     ]
    }
   ],
   "source": [
    "print(greet())"
   ]
  },
  {
   "cell_type": "code",
   "execution_count": null,
   "id": "e77b7d5c-1cfb-4a9d-b676-69e7fcfc0f09",
   "metadata": {},
   "outputs": [],
   "source": []
  }
 ],
 "metadata": {
  "kernelspec": {
   "display_name": "Python 3 (ipykernel)",
   "language": "python",
   "name": "python3"
  },
  "language_info": {
   "codemirror_mode": {
    "name": "ipython",
    "version": 3
   },
   "file_extension": ".py",
   "mimetype": "text/x-python",
   "name": "python",
   "nbconvert_exporter": "python",
   "pygments_lexer": "ipython3",
   "version": "3.12.3"
  }
 },
 "nbformat": 4,
 "nbformat_minor": 5
}
