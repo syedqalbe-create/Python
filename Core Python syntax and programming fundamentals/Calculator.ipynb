{
 "cells": [
  {
   "cell_type": "code",
   "execution_count": null,
   "id": "e15a3a23-1dcb-40ec-83d2-d2ae193a6e86",
   "metadata": {},
   "outputs": [],
   "source": [
    "def calculator(num1,num2,operation):\n",
    "    \n",
    "\n",
    "\n",
    "    if operation == \"+\":\n",
    "        return num1 + num2\n",
    "\n",
    "    elif operation == \"-\":\n",
    "        return num1 - num2\n",
    "\n",
    "    elif operation == \"/\":\n",
    "        return num1/num2\n",
    "\n",
    "    elif operation == \"^\":\n",
    "        return num1*num2\n",
    "\n",
    "    else:\n",
    "        print(\"invalid operation\")\n",
    "\n",
    "\n",
    "        \n",
    "\n",
    "    "
   ]
  },
  {
   "cell_type": "code",
   "execution_count": 2,
   "id": "0157b2d9-ee46-4a7b-b60f-64f9e5706d40",
   "metadata": {},
   "outputs": [
    {
     "name": "stdout",
     "output_type": "stream",
     "text": [
      "This is your basic math calculator\n",
      "\n"
     ]
    },
    {
     "name": "stdin",
     "output_type": "stream",
     "text": [
      "enter your desire number:\n",
      " 2\n",
      "enter your second desire number:\n",
      " 3\n",
      "now enter the operation you want to perform (+, -, /, ^):\n",
      " +\n"
     ]
    },
    {
     "name": "stdout",
     "output_type": "stream",
     "text": [
      "5.0\n"
     ]
    }
   ],
   "source": [
    "print(\"This is your basic math calculator\\n\")\n",
    "num1 = float(input(\"enter your desire number:\\n\"))\n",
    "num2 = float(input(\"enter your second desire number:\\n\"))\n",
    "operation =input(\"now enter the operation you want to perform (+, -, /, ^):\\n\")\n",
    "\n",
    "print(calculator(num1,num2,operation))"
   ]
  },
  {
   "cell_type": "code",
   "execution_count": 3,
   "id": "c456a093-4e4d-4c7c-99a5-cdb9d7ae1c1e",
   "metadata": {},
   "outputs": [],
   "source": [
    "def cal(num1,num2,operation):\n",
    "    \n",
    "        \n",
    "        if operation == \"+\":\n",
    "            return num1 + num2\n",
    "\n",
    "        elif operation == \"-\":\n",
    "            return num1 - num2\n",
    "\n",
    "        elif operation == \"/\":\n",
    "            return num1/num2\n",
    "\n",
    "        elif operation == \"^\":\n",
    "            return num1*num2\n",
    "\n",
    "        else:\n",
    "            print(\"invalid operation\")\n",
    "        \n",
    "\n",
    "\n",
    "\n",
    "    "
   ]
  },
  {
   "cell_type": "code",
   "execution_count": 4,
   "id": "578fb828-7f8c-426b-bed6-55e4ace8cd04",
   "metadata": {},
   "outputs": [
    {
     "name": "stdout",
     "output_type": "stream",
     "text": [
      "This is your basic math calculator\n",
      "\n"
     ]
    },
    {
     "name": "stdin",
     "output_type": "stream",
     "text": [
      "Enter operation (+, -, /, ^) or press Enter to exit:\n",
      " 2\n",
      "Enter your first number:\n",
      " 3\n",
      "Enter your second number:\n",
      " +\n"
     ]
    },
    {
     "name": "stdout",
     "output_type": "stream",
     "text": [
      " Invalid number! Try again.\n"
     ]
    },
    {
     "name": "stdin",
     "output_type": "stream",
     "text": [
      "Enter operation (+, -, /, ^) or press Enter to exit:\n",
      " +\n",
      "Enter your first number:\n",
      " 2\n",
      "Enter your second number:\n",
      " 3\n"
     ]
    },
    {
     "name": "stdout",
     "output_type": "stream",
     "text": [
      "Result: 5.0\n"
     ]
    },
    {
     "name": "stdin",
     "output_type": "stream",
     "text": [
      "Enter operation (+, -, /, ^) or press Enter to exit:\n",
      " \n"
     ]
    },
    {
     "name": "stdout",
     "output_type": "stream",
     "text": [
      "Exiting calculator. GOODBYE!\n"
     ]
    }
   ],
   "source": [
    "print(\"This is your basic math calculator\\n\")\n",
    "\n",
    "while True:\n",
    "    operation = input(\"Enter operation (+, -, /, ^) or press Enter to exit:\\n\")\n",
    "\n",
    "    if operation == \"\":  \n",
    "        print(\"Exiting calculator. GOODBYE!\")\n",
    "        break\n",
    "\n",
    "    try:\n",
    "        num1 = float(input(\"Enter your first number:\\n\"))\n",
    "        num2 = float(input(\"Enter your second number:\\n\"))\n",
    "    except ValueError:\n",
    "        print(\" Invalid number! Try again.\")\n",
    "        continue\n",
    "\n",
    "    result = cal(num1, num2, operation)\n",
    "    print(\"Result:\", result)\n"
   ]
  },
  {
   "cell_type": "code",
   "execution_count": null,
   "id": "8e2189d8-cb36-42df-a18e-e7fffe468be4",
   "metadata": {},
   "outputs": [],
   "source": []
  }
 ],
 "metadata": {
  "kernelspec": {
   "display_name": "Python 3 (ipykernel)",
   "language": "python",
   "name": "python3"
  },
  "language_info": {
   "codemirror_mode": {
    "name": "ipython",
    "version": 3
   },
   "file_extension": ".py",
   "mimetype": "text/x-python",
   "name": "python",
   "nbconvert_exporter": "python",
   "pygments_lexer": "ipython3",
   "version": "3.12.3"
  }
 },
 "nbformat": 4,
 "nbformat_minor": 5
}
