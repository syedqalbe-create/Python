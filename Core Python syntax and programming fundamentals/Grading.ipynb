{
 "cells": [
  {
   "cell_type": "code",
   "execution_count": 1,
   "id": "6d7fbe02-d893-4ffe-902e-c60f56f83675",
   "metadata": {},
   "outputs": [],
   "source": [
    "def grading(subj,num):\n",
    "    \n",
    "\n",
    "    if num>=90 and num<101:\n",
    "        print(\"Congratulation you nailed it with an : Distinction\")\n",
    "\n",
    "    elif num>=85 and num<90:\n",
    "        print(\"Awful you make it with : A\")\n",
    "\n",
    "    elif num>=80 and num<85:\n",
    "        print(\"Great with : A-\")\n",
    "\n",
    "    elif num>=75 and num<80:\n",
    "        print(\"smooth with : B+\")\n",
    "\n",
    "    elif num>=70 and num<75:\n",
    "        print(\"Cool, you got: B\")\n",
    "\n",
    "    elif num>=65 and num<70:\n",
    "        print(\"Satisfactory : C+\")\n",
    "\n",
    "    elif num>=60 and num<65:\n",
    "        print(\"An Average with : C\")\n",
    "\n",
    "    elif num>=55 and num<60:\n",
    "        print(\"Not over yet heads-up: D+\")\n",
    "\n",
    "    elif num>=50 and num<55:\n",
    "        print(\"need to make a move : D\")\n",
    "\n",
    "    else:\n",
    "        print(\"FAILED\")\n",
    "\n",
    "    "
   ]
  },
  {
   "cell_type": "code",
   "execution_count": 5,
   "id": "f92feea6-f966-4dae-b61f-b2337f2921b2",
   "metadata": {},
   "outputs": [
    {
     "name": "stdin",
     "output_type": "stream",
     "text": [
      "enter your subject to check grade:\n",
      " DSA\n",
      "enter your number to check the grade: 77\n"
     ]
    },
    {
     "name": "stdout",
     "output_type": "stream",
     "text": [
      "smooth with : B+\n"
     ]
    },
    {
     "name": "stdin",
     "output_type": "stream",
     "text": [
      "enter your subject to check grade:\n",
      " \n"
     ]
    },
    {
     "name": "stdout",
     "output_type": "stream",
     "text": [
      "THANK YOU, GOODBYE!\n",
      "None\n"
     ]
    }
   ],
   "source": [
    "while True:\n",
    "    subj = input(\"enter your subject to check grade:\\n\")\n",
    "\n",
    "    if subj == \"\":\n",
    "        print(\"THANK YOU, GOODBYE!\")\n",
    "        break\n",
    "\n",
    "    num=float(input(\"enter your number to check the grade:\"))\n",
    "\n",
    "    grad = grading(subj,num)\n",
    "print(grad) #if you dont write print only call the function it won't show none"
   ]
  },
  {
   "cell_type": "code",
   "execution_count": null,
   "id": "a4d7a28d-15f6-4429-8eed-7124abef3a57",
   "metadata": {},
   "outputs": [],
   "source": []
  }
 ],
 "metadata": {
  "kernelspec": {
   "display_name": "Python 3 (ipykernel)",
   "language": "python",
   "name": "python3"
  },
  "language_info": {
   "codemirror_mode": {
    "name": "ipython",
    "version": 3
   },
   "file_extension": ".py",
   "mimetype": "text/x-python",
   "name": "python",
   "nbconvert_exporter": "python",
   "pygments_lexer": "ipython3",
   "version": "3.12.3"
  }
 },
 "nbformat": 4,
 "nbformat_minor": 5
}
